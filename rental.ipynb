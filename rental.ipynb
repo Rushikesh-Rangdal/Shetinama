{
  "nbformat": 4,
  "nbformat_minor": 0,
  "metadata": {
    "colab": {
      "provenance": []
    },
    "kernelspec": {
      "name": "python3",
      "display_name": "Python 3"
    },
    "language_info": {
      "name": "python"
    }
  },
  "cells": [
    {
      "cell_type": "code",
      "execution_count": null,
      "metadata": {
        "id": "6SwLmGdMtc9Y"
      },
      "outputs": [],
      "source": [
        "import pandas as pd"
      ]
    },
    {
      "cell_type": "code",
      "source": [
        "import numpy as np"
      ],
      "metadata": {
        "id": "cBeprm89ttEL"
      },
      "execution_count": null,
      "outputs": []
    },
    {
      "cell_type": "code",
      "source": [
        "data = [{\"name\": \"prime\", \"address\": \"Nageshwar Nagar moshi,bhosari,india\",\"rental\":True,\"available\":True,\"wants_tractor\": \"owner\"},\n",
        "    {\"name\": \"Sanku\", \"address\": \"DY patil akurdi,pune,india\",\"rental\":False,\"available\":True,\"wants_tractor\":\"yes\"},\n",
        "    {\"name\": \"harsha\", \"address\": \"near ojas hospital,bhondave chowk ravet,pune,india\",\"rental\":True,\"available\":True,\"wants_tractor\": \"owner\"},\n",
        "    {\"name\": \"adya\", \"address\": \"gurudawra choek,near akurdi railway station,akurdi,india\",\"rental\":False,\"available\":False,\"wants_tractor\": \"yes\"}]"
      ],
      "metadata": {
        "id": "Inf0-_NJtzQ1"
      },
      "execution_count": null,
      "outputs": []
    },
    {
      "cell_type": "code",
      "source": [
        "print(data)"
      ],
      "metadata": {
        "colab": {
          "base_uri": "https://localhost:8080/"
        },
        "id": "hhcVQJlpvgOY",
        "outputId": "0d4341ae-80a6-4e6b-a72a-3aabf977f892"
      },
      "execution_count": null,
      "outputs": [
        {
          "output_type": "stream",
          "name": "stdout",
          "text": [
            "[{'name': 'prime', 'address': 'Nageshwar Nagar moshi,bhosari,india', 'rental': True, 'available': True, 'wants_tractor': 'owner'}, {'name': 'Sanku', 'address': 'DY patil akurdi,pune,india', 'rental': False, 'available': True, 'wants_tractor': 'yes'}, {'name': 'harsha', 'address': 'near ojas hospital,bhondave chowk ravet,pune,india', 'rental': True, 'available': True, 'wants_tractor': 'owner'}, {'name': 'adya', 'address': 'gurudawra choek,near akurdi railway station,akurdi,india', 'rental': False, 'available': False, 'wants_tractor': 'yes'}]\n"
          ]
        }
      ]
    },
    {
      "cell_type": "code",
      "source": [
        "df = pd.DataFrame(data)"
      ],
      "metadata": {
        "id": "u8or_n6HwLHh"
      },
      "execution_count": null,
      "outputs": []
    },
    {
      "cell_type": "code",
      "source": [
        "df.isnull().sum()"
      ],
      "metadata": {
        "colab": {
          "base_uri": "https://localhost:8080/"
        },
        "id": "6Qw1Yjiww6zq",
        "outputId": "9c0c27f6-81d5-4d87-9c7b-09c01cd7a9ed"
      },
      "execution_count": null,
      "outputs": [
        {
          "output_type": "execute_result",
          "data": {
            "text/plain": [
              "name             0\n",
              "address          0\n",
              "rental           0\n",
              "available        0\n",
              "wants_tractor    0\n",
              "dtype: int64"
            ]
          },
          "metadata": {},
          "execution_count": 65
        }
      ]
    },
    {
      "cell_type": "code",
      "source": [
        "import math\n",
        "\n",
        "# Sample data\n",
        "data = [{\"name\": \"prime\", \"address\": \"Nageshwar Nagar moshi,bhosari,india\",\"rental\":True,\"available\":True,\"wants_tractor\": \"owner\"},\n",
        "        {\"name\": \"Sanku\", \"address\": \"DY patil akurdi,pune,india\",\"rental\":False,\"available\":True,\"wants_tractor\":\"yes\"},\n",
        "        {\"name\": \"harsha\", \"address\": \"near ojas hospital,bhondave chowk ravet,pune,india\",\"rental\":True,\"available\":True,\"wants_tractor\": \"owner\"},\n",
        "        {\"name\": \"adya\", \"address\": \"gurudawra choek,near akurdi railway station,akurdi,india\",\"rental\":False,\"available\":False,\"wants_tractor\": \"yes\"}]\n",
        "\n",
        "# Convert addresses to coordinates using a geocoding API\n",
        "# Here, we'll assume that the coordinates have already been obtained\n",
        "# and included in the data\n",
        "for d in data:\n",
        "    if d['address'] == \"Nageshwar Nagar moshi,bhosari,india\":\n",
        "        d['location'] = (18.6381437, 73.8355707)\n",
        "    elif d['address'] == \"DY patil akurdi,pune,india\":\n",
        "        d['location'] = (18.6459777, 73.7652005)\n",
        "    elif d['address'] == \"near ojas hospital,bhondave chowk ravet,pune,india\":\n",
        "        d['location'] = (18.6467552, 73.7320781)\n",
        "    elif d['address'] == \"gurudawra choek,near akurdi railway station,akurdi,india\":\n",
        "        d['location'] = (18.6467295, 73.7749737)\n",
        "\n",
        "# Calculate the distance between two locations\n",
        "def distance(loc1, loc2):\n",
        "    return math.sqrt((loc1[0] - loc2[0])**2 + (loc1[1] - loc2[1])**2)\n",
        "\n",
        "# Find the person who has \"rental\" option True and is closest to the person who has \"wants_tractor\" option\n",
        "def allocate_rental_person(data):\n",
        "    tractor_people = [d for d in data if d['wants_tractor'] == 'yes']\n",
        "    rental_people = [d for d in data if d['rental'] and d['available']]\n",
        "    min_distance = float('inf')\n",
        "    closest_rental_person = None\n",
        "    for tp in tractor_people:\n",
        "        for rp in rental_people:\n",
        "            d = distance(tp['location'], rp['location'])\n",
        "            if d < min_distance:\n",
        "                min_distance = d\n",
        "                closest_rental_person = rp\n",
        "    return closest_rental_person\n",
        "\n",
        "# Allocate the rental person to the person who wants tractor and is closest\n",
        "closest_rental_person = allocate_rental_person(data)\n",
        "print(\"Allocate {} to {}\".format(closest_rental_person['name'], [d['name'] for d in data if d['wants_tractor'] == 'yes']))\n"
      ],
      "metadata": {
        "id": "35yvWAEW1JVa",
        "colab": {
          "base_uri": "https://localhost:8080/"
        },
        "outputId": "a8787958-0b06-4307-f0d8-69c1eba7df0b"
      },
      "execution_count": null,
      "outputs": [
        {
          "output_type": "stream",
          "name": "stdout",
          "text": [
            "Allocate harsha to ['Sanku', 'adya']\n"
          ]
        }
      ]
    },
    {
      "cell_type": "code",
      "source": [
        "### to access for sanku\n",
        "\n",
        "def allocate_rental_person(data):\n",
        "    tractor_people = [d for d in data if d['wants_tractor'] == 'yes']\n",
        "    rental_people = [d for d in data if d['rental'] and d['available']]\n",
        "    min_distance = float('inf')\n",
        "    closest_rental_person = None\n",
        "    for tp in tractor_people:\n",
        "        for rp in rental_people:\n",
        "            d = distance(tp['location'], rp['location'])\n",
        "            if d < min_distance:\n",
        "                min_distance = d\n",
        "                closest_rental_person = rp\n",
        "        if closest_rental_person:\n",
        "            closest_rental_person['allocation'] = tp['name']\n",
        "            tp['allocated_to'] = closest_rental_person['name']\n",
        "        else:\n",
        "            tp['allocated_to'] = None\n",
        "    return data\n",
        "\n",
        "\n",
        "\n",
        "# Allocate the rental person to the person who wants tractor and is closest\n",
        "data = allocate_rental_person(data)\n",
        "\n",
        "# Search for a person's allocation\n",
        "def search_allocation(name, data):\n",
        "    person = [d for d in data if d['name'] == name]\n",
        "    if not person:\n",
        "        return \"Person not found\"\n",
        "    else:\n",
        "        person = person[0]\n",
        "        if person['wants_tractor'] != 'yes':\n",
        "            return f\"{name} does not want a tractor\"\n",
        "        elif 'allocated_to' not in person:\n",
        "            return f\"No allocation found for {name}\"\n",
        "        else:\n",
        "            return f\"{name} has been allocated to {person['allocated_to']}\"\n",
        "\n",
        "# Example usage\n",
        "print(search_allocation(\"Sanku\", data)) # Output: Sanku has been allocated to prime\n",
        "print(search_allocation(\"prime\", data)) # Output: prime does not want a tractor\n",
        "print(search_allocation(\"adya\", data)) # Output: adya has been allocated to prime\n",
        "print(search_allocation(\"foo\", data)) # Output: Person not found"
      ],
      "metadata": {
        "id": "QPyQX7df5dE9",
        "colab": {
          "base_uri": "https://localhost:8080/"
        },
        "outputId": "fe52e8ae-caaf-4e46-c5c1-437776ac85fb"
      },
      "execution_count": null,
      "outputs": [
        {
          "output_type": "stream",
          "name": "stdout",
          "text": [
            "Sanku has been allocated to harsha\n",
            "prime does not want a tractor\n",
            "adya has been allocated to harsha\n",
            "Person not found\n"
          ]
        }
      ]
    },
    {
      "cell_type": "code",
      "source": [],
      "metadata": {
        "id": "9utzTXTG5dpP"
      },
      "execution_count": null,
      "outputs": []
    }
  ]
}